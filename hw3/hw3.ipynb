{
 "cells": [
  {
   "cell_type": "markdown",
   "metadata": {},
   "source": [
    "# STA 141B: Homework 3\n",
    "\n",
    "Fall 2018"
   ]
  },
  {
   "cell_type": "markdown",
   "metadata": {},
   "source": [
    "## Information\n",
    "\n",
    "After the colons (in the same line) please write just your first name, last name, and the 9 digit student ID number below.\n",
    "\n",
    "First Name: Jared\n",
    "\n",
    "Last Name: Yu\n",
    "\n",
    "Student ID: 914640019"
   ]
  },
  {
   "cell_type": "markdown",
   "metadata": {},
   "source": [
    "## Instructions\n",
    "\n",
    "### New item: Please print your answer notebook to pdf (make sure that it is not too many pages, > 10, due to long output) and submit as the homework solution with your zip file.\n",
    "\n",
    "We use a script that extracts your answers by looking for cells in between the cells containing the exercise statements.  So you \n",
    "\n",
    "- MUST add cells in between the exercise statements and add answers within them and\n",
    "- MUST NOT modify the existing cells, particularly not the problem statement\n",
    "\n",
    "To make markdown, please switch the cell type to markdown (from code) - you can hit 'm' when you are in command mode - and use the markdown language.  For a brief tutorial see: https://daringfireball.net/projects/markdown/syntax"
   ]
  },
  {
   "cell_type": "markdown",
   "metadata": {},
   "source": [
    "### Introduction\n",
    "\n",
    "The US Department of Agriculture publishes price estimates for fruits and vegetables [online](https://www.ers.usda.gov/data-products/fruit-and-vegetable-prices/fruit-and-vegetable-prices/). The most recent estimates are based on a 2013 survey of US retail stores.\n",
    "\n",
    "The estimates are provided as a collection of MS Excel files, with one file per fruit or vegetable. The `hw3_data.zip` file contains the fruit and vegetable files in the directories `fruit` and `vegetables`, respectively."
   ]
  },
  {
   "cell_type": "markdown",
   "metadata": {},
   "source": [
    "__Exercise 1.__ Use pandas to extract the \"Fresh\" row(s) from the <strong style=\"color:#B0B\">fruit</strong> Excel files. Combine the data into a single data frame. Your data frame should look something like this:\n",
    "\n",
    "type       | food       | form   | price_per_lb | yield | lb_per_cup | price_per_cup\n",
    "---------- | ---------- | ------ | ------------ | ----- | ---------- | -------------\n",
    "fruit      | watermelon | Fresh1 | 0.333412     | 0.52  | 0.330693   | 0.212033\n",
    "fruit      | cantaloupe | Fresh1 | 0.535874     | 0.51  | 0.374786   | 0.3938\n",
    "vegetables | onions     | Fresh1 | 1.03811      | 0.9   | 0.35274    | 0.406868\n",
    "...        |            |        |              |       |            |\n",
    "\n",
    "\n",
    "It's okay if the rows and columns of your data frame are in a different order. These modules are especially relevant:\n",
    "\n",
    "* [`str` methods](https://docs.python.org/2/library/stdtypes.html#string-methods)\n",
    "* [`os`](https://docs.python.org/2/library/os.html)\n",
    "* [`os.path`](https://docs.python.org/2/library/os.path.html)\n",
    "* [pandas](http://pandas.pydata.org/pandas-docs/stable/): `read_excel()`, `concat()`, `.fillna()`, `.str`, plotting methods\n",
    "\n",
    "Ask questions and search the documentation/web to find the functions you need.\n"
   ]
  },
  {
   "cell_type": "code",
   "execution_count": 1,
   "metadata": {},
   "outputs": [
    {
     "data": {
      "text/html": [
       "<div>\n",
       "<style scoped>\n",
       "    .dataframe tbody tr th:only-of-type {\n",
       "        vertical-align: middle;\n",
       "    }\n",
       "\n",
       "    .dataframe tbody tr th {\n",
       "        vertical-align: top;\n",
       "    }\n",
       "\n",
       "    .dataframe thead th {\n",
       "        text-align: right;\n",
       "    }\n",
       "</style>\n",
       "<table border=\"1\" class=\"dataframe\">\n",
       "  <thead>\n",
       "    <tr style=\"text-align: right;\">\n",
       "      <th></th>\n",
       "      <th>price_per_cup</th>\n",
       "      <th>price_per_lb</th>\n",
       "      <th>Form</th>\n",
       "      <th>yield</th>\n",
       "      <th>lb_per_cup</th>\n",
       "      <th>food</th>\n",
       "      <th>type</th>\n",
       "    </tr>\n",
       "  </thead>\n",
       "  <tbody>\n",
       "    <tr>\n",
       "      <th>0</th>\n",
       "      <td>0.422373</td>\n",
       "      <td>1.56752</td>\n",
       "      <td>Fresh1</td>\n",
       "      <td>0.9</td>\n",
       "      <td>0.242508</td>\n",
       "      <td>apples</td>\n",
       "      <td>fruit</td>\n",
       "    </tr>\n",
       "    <tr>\n",
       "      <th>1</th>\n",
       "      <td>1.1891</td>\n",
       "      <td>3.04007</td>\n",
       "      <td>Fresh1</td>\n",
       "      <td>0.93</td>\n",
       "      <td>0.363763</td>\n",
       "      <td>apricots</td>\n",
       "      <td>fruit</td>\n",
       "    </tr>\n",
       "    <tr>\n",
       "      <th>2</th>\n",
       "      <td>0.292965</td>\n",
       "      <td>0.566983</td>\n",
       "      <td>Fresh1</td>\n",
       "      <td>0.64</td>\n",
       "      <td>0.330693</td>\n",
       "      <td>bananas</td>\n",
       "      <td>fruit</td>\n",
       "    </tr>\n",
       "    <tr>\n",
       "      <th>3</th>\n",
       "      <td>1.59318</td>\n",
       "      <td>4.73462</td>\n",
       "      <td>Fresh1</td>\n",
       "      <td>0.95</td>\n",
       "      <td>0.31967</td>\n",
       "      <td>blueberries</td>\n",
       "      <td>fruit</td>\n",
       "    </tr>\n",
       "    <tr>\n",
       "      <th>4</th>\n",
       "      <td>0.3938</td>\n",
       "      <td>0.535874</td>\n",
       "      <td>Fresh1</td>\n",
       "      <td>0.51</td>\n",
       "      <td>0.374786</td>\n",
       "      <td>cantaloupe</td>\n",
       "      <td>fruit</td>\n",
       "    </tr>\n",
       "  </tbody>\n",
       "</table>\n",
       "</div>"
      ],
      "text/plain": [
       "  price_per_cup price_per_lb    Form yield lb_per_cup         food   type\n",
       "0      0.422373      1.56752  Fresh1   0.9   0.242508       apples  fruit\n",
       "1        1.1891      3.04007  Fresh1  0.93   0.363763     apricots  fruit\n",
       "2      0.292965     0.566983  Fresh1  0.64   0.330693      bananas  fruit\n",
       "3       1.59318      4.73462  Fresh1  0.95    0.31967  blueberries  fruit\n",
       "4        0.3938     0.535874  Fresh1  0.51   0.374786   cantaloupe  fruit"
      ]
     },
     "execution_count": 1,
     "metadata": {},
     "output_type": "execute_result"
    }
   ],
   "source": [
    "import pandas as pd\n",
    "import os\n",
    "import os.path\n",
    "\n",
    "# https://stackoverflow.com/questions/5653533/indexerror-list-assignment-index-out-of-range\n",
    "# https://stackoverflow.com/questions/25082410/apply-function-to-each-element-of-a-list\n",
    "# https://stackoverflow.com/questions/18674064/how-do-i-insert-a-column-at-a-specific-column-index-in-pandas\n",
    "# https://stackoverflow.com/questions/12142133/how-to-get-first-element-in-a-list-of-tuples\n",
    "# https://stackoverflow.com/questions/17071871/select-rows-from-a-dataframe-based-on-values-in-a-column-in-pandas\n",
    "# https://pandas.pydata.org/pandas-docs/stable/generated/pandas.DataFrame.drop.htmlb\n",
    "\n",
    "def food_data(file_path, food_type):\n",
    "    \"\"\"\n",
    "    The food_data function takes the file path and food type to select \n",
    "    one of the USDA files to filter. After finding the files, the function\n",
    "    creates an empty list to store the files. It then goes through each file\n",
    "    and appends them to the list. The file names are also taken and used to\n",
    "    add to a new column called 'food.' Additionally a 'type' column is added\n",
    "    to indicate whether the food is a fruit or vegetable. The last step is\n",
    "    to concatenate the data so that the data in the list into a single pandas\n",
    "    dataframe. Once this has been done, the 'Fresh1' rows can be isolated from\n",
    "    the rest of the data. The result is a dataframe with only 'Fresh1' foods shown.\n",
    "    \n",
    "    input: name of file path, the type of food (fruit, vegetables)\n",
    "    output: data for the food type with added columns for food and filtered by\n",
    "    'Fresh1' and 'Fresh'\n",
    "    \"\"\"\n",
    "    food_path = os.path.join(file_path, food_type)\n",
    "    food_names = os.listdir(food_path)\n",
    "    \n",
    "    food_data = [] # Create list of fruits\n",
    "    \n",
    "    split_names = [i[0] for i in list(map(os.path.splitext, food_names))]\n",
    "    \n",
    "    for i in range(len(food_names)):\n",
    "        food_data.append(pd.read_excel(food_path + '/' + food_names[i], header=1))    \n",
    "        food_data[i].insert(loc=0, column='food', value=split_names[i])\n",
    "        food_data[i].insert(loc=1, column='type', value=food_type)\n",
    "\n",
    "    # Isolate the 'Fresh1' and 'Fresh' rows\n",
    "    concat_data = pd.concat(food_data, sort = True)\n",
    "    concat_data = concat_data[(concat_data['Form'] == 'Fresh1') | \n",
    "                              (concat_data['Form'] == 'Fresh')]\n",
    "    \n",
    "    # Fix column names\n",
    "    concat_data = concat_data.drop(columns=['Unnamed: 2', 'Unnamed: 5', 'Unnamed: 7',\n",
    "                                            'Unnamed: 8'])\n",
    "    concat_data = concat_data.rename(columns={'Average retail price ': 'price_per_lb',\n",
    "                                             'Average price': 'price_per_cup',\n",
    "                                             'Preparation': 'yield',\n",
    "                                             'Size of a ': 'lb_per_cup'})\n",
    "    \n",
    "    return concat_data\n",
    "\n",
    "fruits = food_data(file_path='../hw3_data/', food_type='fruit')\n",
    "fruits = fruits.reset_index(drop=True)\n",
    "fruits.head()"
   ]
  },
  {
   "cell_type": "markdown",
   "metadata": {},
   "source": [
    "__Exercise 2.__ Reuse your code from exercise 1.1 to extract the \"Fresh\" row(s) from the <strong style=\"color:#B0B\">vegetable</strong> Excel files.\n",
    "\n",
    "Does your code produce the correct prices for tomatoes? If not, why not? Do any other files have the same problem as the tomatoes file?\n",
    "\n",
    "You don't need to extract the prices for these problem files. However, make sure the prices are extracted for files like asparagus that don't have this problem."
   ]
  },
  {
   "cell_type": "code",
   "execution_count": 2,
   "metadata": {},
   "outputs": [
    {
     "data": {
      "text/html": [
       "<div>\n",
       "<style scoped>\n",
       "    .dataframe tbody tr th:only-of-type {\n",
       "        vertical-align: middle;\n",
       "    }\n",
       "\n",
       "    .dataframe tbody tr th {\n",
       "        vertical-align: top;\n",
       "    }\n",
       "\n",
       "    .dataframe thead th {\n",
       "        text-align: right;\n",
       "    }\n",
       "</style>\n",
       "<table border=\"1\" class=\"dataframe\">\n",
       "  <thead>\n",
       "    <tr style=\"text-align: right;\">\n",
       "      <th></th>\n",
       "      <th>price_per_cup</th>\n",
       "      <th>price_per_lb</th>\n",
       "      <th>Form</th>\n",
       "      <th>yield</th>\n",
       "      <th>lb_per_cup</th>\n",
       "      <th>food</th>\n",
       "      <th>type</th>\n",
       "    </tr>\n",
       "  </thead>\n",
       "  <tbody>\n",
       "    <tr>\n",
       "      <th>0</th>\n",
       "      <td>1.15536</td>\n",
       "      <td>1.17225</td>\n",
       "      <td>Fresh1</td>\n",
       "      <td>0.458554</td>\n",
       "      <td>0.451948</td>\n",
       "      <td>acorn_squash</td>\n",
       "      <td>vegetables</td>\n",
       "    </tr>\n",
       "    <tr>\n",
       "      <th>1</th>\n",
       "      <td>2.27497</td>\n",
       "      <td>2.21305</td>\n",
       "      <td>Fresh1</td>\n",
       "      <td>0.375309</td>\n",
       "      <td>0.385809</td>\n",
       "      <td>artichoke</td>\n",
       "      <td>vegetables</td>\n",
       "    </tr>\n",
       "    <tr>\n",
       "      <th>2</th>\n",
       "      <td>2.58227</td>\n",
       "      <td>3.21349</td>\n",
       "      <td>Fresh1</td>\n",
       "      <td>0.493835</td>\n",
       "      <td>0.396832</td>\n",
       "      <td>asparagus</td>\n",
       "      <td>vegetables</td>\n",
       "    </tr>\n",
       "    <tr>\n",
       "      <th>3</th>\n",
       "      <td>0.964886</td>\n",
       "      <td>2.23587</td>\n",
       "      <td>Fresh1</td>\n",
       "      <td>0.740753</td>\n",
       "      <td>0.31967</td>\n",
       "      <td>avocados</td>\n",
       "      <td>vegetables</td>\n",
       "    </tr>\n",
       "    <tr>\n",
       "      <th>4</th>\n",
       "      <td>0.890898</td>\n",
       "      <td>2.76355</td>\n",
       "      <td>Fresh1</td>\n",
       "      <td>1.06</td>\n",
       "      <td>0.341717</td>\n",
       "      <td>brussels_sprouts</td>\n",
       "      <td>vegetables</td>\n",
       "    </tr>\n",
       "  </tbody>\n",
       "</table>\n",
       "</div>"
      ],
      "text/plain": [
       "  price_per_cup price_per_lb    Form     yield lb_per_cup              food  \\\n",
       "0       1.15536      1.17225  Fresh1  0.458554   0.451948      acorn_squash   \n",
       "1       2.27497      2.21305  Fresh1  0.375309   0.385809         artichoke   \n",
       "2       2.58227      3.21349  Fresh1  0.493835   0.396832         asparagus   \n",
       "3      0.964886      2.23587  Fresh1  0.740753    0.31967          avocados   \n",
       "4      0.890898      2.76355  Fresh1      1.06   0.341717  brussels_sprouts   \n",
       "\n",
       "         type  \n",
       "0  vegetables  \n",
       "1  vegetables  \n",
       "2  vegetables  \n",
       "3  vegetables  \n",
       "4  vegetables  "
      ]
     },
     "execution_count": 2,
     "metadata": {},
     "output_type": "execute_result"
    }
   ],
   "source": [
    "# The food_data function is applied to vegetables also\n",
    "vegetables = food_data(file_path='../hw3_data/', food_type='vegetables')\n",
    "vegetables = vegetables.reset_index(drop=True)\n",
    "vegetables.head()"
   ]
  },
  {
   "cell_type": "markdown",
   "metadata": {},
   "source": [
    "Here tomatoes are shown. (Only the first 5 foods are shown to save space.) The tomatoes spreadsheet lacks a Fresh1 variable, but it has the Fresh variable which is also accounted for. There is only one other vegetable with this similar quality in the data which is carrots. The reason that the prices don't exist is that the carrots and tomatoes have the Fresh variable as a category which stores other sub-variables such as Cooked whole, Raw whole, etc.. The actual prices are stored in these rows, and so the two foods (carrots and tomatoes) have multiple prices which aren't properly extracted."
   ]
  },
  {
   "cell_type": "markdown",
   "metadata": {},
   "source": [
    "__Exercise 3.__ Remove rows without a price from the vegetable data frame and then combine the fruit and vegetable data frames. Make sure all columns of numbers are numeric (not strings)."
   ]
  },
  {
   "cell_type": "code",
   "execution_count": 3,
   "metadata": {},
   "outputs": [
    {
     "data": {
      "text/html": [
       "<div>\n",
       "<style scoped>\n",
       "    .dataframe tbody tr th:only-of-type {\n",
       "        vertical-align: middle;\n",
       "    }\n",
       "\n",
       "    .dataframe tbody tr th {\n",
       "        vertical-align: top;\n",
       "    }\n",
       "\n",
       "    .dataframe thead th {\n",
       "        text-align: right;\n",
       "    }\n",
       "</style>\n",
       "<table border=\"1\" class=\"dataframe\">\n",
       "  <thead>\n",
       "    <tr style=\"text-align: right;\">\n",
       "      <th></th>\n",
       "      <th>price_per_cup</th>\n",
       "      <th>price_per_lb</th>\n",
       "      <th>Form</th>\n",
       "      <th>yield</th>\n",
       "      <th>lb_per_cup</th>\n",
       "      <th>food</th>\n",
       "      <th>type</th>\n",
       "    </tr>\n",
       "  </thead>\n",
       "  <tbody>\n",
       "    <tr>\n",
       "      <th>0</th>\n",
       "      <td>0.422373</td>\n",
       "      <td>1.567515</td>\n",
       "      <td>Fresh1</td>\n",
       "      <td>0.90</td>\n",
       "      <td>0.242508</td>\n",
       "      <td>apples</td>\n",
       "      <td>fruit</td>\n",
       "    </tr>\n",
       "    <tr>\n",
       "      <th>1</th>\n",
       "      <td>1.189102</td>\n",
       "      <td>3.040072</td>\n",
       "      <td>Fresh1</td>\n",
       "      <td>0.93</td>\n",
       "      <td>0.363763</td>\n",
       "      <td>apricots</td>\n",
       "      <td>fruit</td>\n",
       "    </tr>\n",
       "    <tr>\n",
       "      <th>2</th>\n",
       "      <td>0.292965</td>\n",
       "      <td>0.566983</td>\n",
       "      <td>Fresh1</td>\n",
       "      <td>0.64</td>\n",
       "      <td>0.330693</td>\n",
       "      <td>bananas</td>\n",
       "      <td>fruit</td>\n",
       "    </tr>\n",
       "    <tr>\n",
       "      <th>3</th>\n",
       "      <td>1.593177</td>\n",
       "      <td>4.734622</td>\n",
       "      <td>Fresh1</td>\n",
       "      <td>0.95</td>\n",
       "      <td>0.319670</td>\n",
       "      <td>blueberries</td>\n",
       "      <td>fruit</td>\n",
       "    </tr>\n",
       "    <tr>\n",
       "      <th>4</th>\n",
       "      <td>0.393800</td>\n",
       "      <td>0.535874</td>\n",
       "      <td>Fresh1</td>\n",
       "      <td>0.51</td>\n",
       "      <td>0.374786</td>\n",
       "      <td>cantaloupe</td>\n",
       "      <td>fruit</td>\n",
       "    </tr>\n",
       "  </tbody>\n",
       "</table>\n",
       "</div>"
      ],
      "text/plain": [
       "   price_per_cup  price_per_lb    Form  yield  lb_per_cup         food   type\n",
       "0       0.422373      1.567515  Fresh1   0.90    0.242508       apples  fruit\n",
       "1       1.189102      3.040072  Fresh1   0.93    0.363763     apricots  fruit\n",
       "2       0.292965      0.566983  Fresh1   0.64    0.330693      bananas  fruit\n",
       "3       1.593177      4.734622  Fresh1   0.95    0.319670  blueberries  fruit\n",
       "4       0.393800      0.535874  Fresh1   0.51    0.374786   cantaloupe  fruit"
      ]
     },
     "execution_count": 3,
     "metadata": {},
     "output_type": "execute_result"
    }
   ],
   "source": [
    "# https://stackoverflow.com/questions/13413590/how-to-drop-rows-of-pandas-dataframe-whose-value-in-certain-columns-is-nan\n",
    "# Here the two dataframes for fruits and vegetables are combined. This is \n",
    "# done after removing the NaN rows from vegetables. Additionally, the data \n",
    "# type is changed to float for the numeric variables.\n",
    "vegetables2 = vegetables.dropna(subset=['price_per_cup'])\n",
    "new_dtype = ['price_per_cup', 'price_per_lb', 'yield', 'lb_per_cup']\n",
    "fruits_n_veges = [fruits, vegetables2]\n",
    "fresh_food = pd.concat(fruits_n_veges).reset_index(drop=True)\n",
    "\n",
    "# Help from Tiffany C.\n",
    "for i in new_dtype:\n",
    "    fresh_food[i] = fresh_food[i].astype(float)\n",
    "\n",
    "fresh_food.head()"
   ]
  },
  {
   "cell_type": "code",
   "execution_count": 4,
   "metadata": {},
   "outputs": [
    {
     "data": {
      "text/html": [
       "<div>\n",
       "<style scoped>\n",
       "    .dataframe tbody tr th:only-of-type {\n",
       "        vertical-align: middle;\n",
       "    }\n",
       "\n",
       "    .dataframe tbody tr th {\n",
       "        vertical-align: top;\n",
       "    }\n",
       "\n",
       "    .dataframe thead th {\n",
       "        text-align: right;\n",
       "    }\n",
       "</style>\n",
       "<table border=\"1\" class=\"dataframe\">\n",
       "  <thead>\n",
       "    <tr style=\"text-align: right;\">\n",
       "      <th></th>\n",
       "      <th>price_per_cup</th>\n",
       "      <th>price_per_lb</th>\n",
       "      <th>Form</th>\n",
       "      <th>yield</th>\n",
       "      <th>lb_per_cup</th>\n",
       "      <th>food</th>\n",
       "      <th>type</th>\n",
       "    </tr>\n",
       "  </thead>\n",
       "  <tbody>\n",
       "    <tr>\n",
       "      <th>39</th>\n",
       "      <td>0.401618</td>\n",
       "      <td>1.311629</td>\n",
       "      <td>Fresh1</td>\n",
       "      <td>0.900000</td>\n",
       "      <td>0.275578</td>\n",
       "      <td>radish</td>\n",
       "      <td>vegetables</td>\n",
       "    </tr>\n",
       "    <tr>\n",
       "      <th>40</th>\n",
       "      <td>0.734926</td>\n",
       "      <td>2.277940</td>\n",
       "      <td>Fresh1</td>\n",
       "      <td>0.820000</td>\n",
       "      <td>0.264555</td>\n",
       "      <td>red_peppers</td>\n",
       "      <td>vegetables</td>\n",
       "    </tr>\n",
       "    <tr>\n",
       "      <th>41</th>\n",
       "      <td>0.845480</td>\n",
       "      <td>1.639477</td>\n",
       "      <td>Fresh1</td>\n",
       "      <td>0.769500</td>\n",
       "      <td>0.396832</td>\n",
       "      <td>summer_squash</td>\n",
       "      <td>vegetables</td>\n",
       "    </tr>\n",
       "    <tr>\n",
       "      <th>42</th>\n",
       "      <td>0.499400</td>\n",
       "      <td>0.918897</td>\n",
       "      <td>Fresh1</td>\n",
       "      <td>0.811301</td>\n",
       "      <td>0.440925</td>\n",
       "      <td>sweet_potatoes</td>\n",
       "      <td>vegetables</td>\n",
       "    </tr>\n",
       "    <tr>\n",
       "      <th>43</th>\n",
       "      <td>1.053526</td>\n",
       "      <td>2.471749</td>\n",
       "      <td>Fresh1</td>\n",
       "      <td>0.750000</td>\n",
       "      <td>0.319670</td>\n",
       "      <td>turnip_greens</td>\n",
       "      <td>vegetables</td>\n",
       "    </tr>\n",
       "  </tbody>\n",
       "</table>\n",
       "</div>"
      ],
      "text/plain": [
       "    price_per_cup  price_per_lb    Form     yield  lb_per_cup            food  \\\n",
       "39       0.401618      1.311629  Fresh1  0.900000    0.275578          radish   \n",
       "40       0.734926      2.277940  Fresh1  0.820000    0.264555     red_peppers   \n",
       "41       0.845480      1.639477  Fresh1  0.769500    0.396832   summer_squash   \n",
       "42       0.499400      0.918897  Fresh1  0.811301    0.440925  sweet_potatoes   \n",
       "43       1.053526      2.471749  Fresh1  0.750000    0.319670   turnip_greens   \n",
       "\n",
       "          type  \n",
       "39  vegetables  \n",
       "40  vegetables  \n",
       "41  vegetables  \n",
       "42  vegetables  \n",
       "43  vegetables  "
      ]
     },
     "execution_count": 4,
     "metadata": {},
     "output_type": "execute_result"
    }
   ],
   "source": [
    "fresh_food.tail()"
   ]
  },
  {
   "cell_type": "code",
   "execution_count": 5,
   "metadata": {
    "scrolled": true
   },
   "outputs": [
    {
     "name": "stdout",
     "output_type": "stream",
     "text": [
      "<class 'pandas.core.frame.DataFrame'>\n",
      "RangeIndex: 44 entries, 0 to 43\n",
      "Data columns (total 7 columns):\n",
      "price_per_cup    44 non-null float64\n",
      "price_per_lb     44 non-null float64\n",
      "Form             44 non-null object\n",
      "yield            44 non-null float64\n",
      "lb_per_cup       44 non-null float64\n",
      "food             44 non-null object\n",
      "type             44 non-null object\n",
      "dtypes: float64(4), object(3)\n",
      "memory usage: 2.5+ KB\n"
     ]
    }
   ],
   "source": [
    "fresh_food.info() # Datatype changed to float"
   ]
  },
  {
   "cell_type": "markdown",
   "metadata": {},
   "source": [
    "__Exercise 4.__ Discuss the questions below (a paragraph each is sufficient). Use plots to support your ideas.\n",
    "\n",
    "* What kinds of fruits are the most expensive (per pound)? What kinds are the least expensive?\n",
    "* How do the price distributions compare for fruit and vegetables?\n",
    "* Which foods are the best value for the price?\n",
    "* What's something surprising about this data set?\n",
    "* Which foods do you expect to provide the best combination of price, yield, and nutrition? A future assignment may combine this data set with another so you can check your hypothesis."
   ]
  },
  {
   "cell_type": "code",
   "execution_count": 6,
   "metadata": {},
   "outputs": [
    {
     "data": {
      "image/png": "[encoded data removed]",
      "text/plain": [
       "<Figure size 842.4x595.44 with 1 Axes>"
      ]
     },
     "metadata": {},
     "output_type": "display_data"
    }
   ],
   "source": [
    "import matplotlib.pyplot as plt\n",
    "import seaborn as sns\n",
    "# https://stackoverflow.com/questions/31594549/how-do-i-change-the-figure-size-for-a-seaborn-plot\n",
    "# Order the food by price per pound and plot them on the x and y axis.\n",
    "expensive_fruit = fruits.sort_values(by=['price_per_lb'])\n",
    "sns.set(rc={'figure.figsize':(11.7,8.27)})\n",
    "price_plot = sns.barplot(x='food', y='price_per_lb', data=expensive_fruit)\n",
    "plt.title(label='Fruits by price per pound')\n",
    "plt.xticks(rotation = 90)\n",
    "plt.show()"
   ]
  },
  {
   "cell_type": "markdown",
   "metadata": {},
   "source": [
    "After sorting the fruits by price per pound they have been plotted above in a barchart. The top 5 most expensive in terms of price per pound are raspberries, blueberries, cherries, apricots, and strawberries. The top 5 cheapest in terms of price per pound are watermelon, cantaloupe, bananas, pineapples, and honeydew. The expensive food actually makes quite a bit of sense. It is to my memory that everytime I try to purchase berries, they are often quite highly priced. It is possible that due to the mass of the fruit, the pricing is rather high to offset the cost of production for farmers. On the other hand some of the heavy foods such as watermelons, cantaloupes, pineapples, and honeydew are located at the cheap end."
   ]
  },
  {
   "cell_type": "code",
   "execution_count": 7,
   "metadata": {},
   "outputs": [
    {
     "data": {
      "image/png": "[encoded data removed]",
      "text/plain": [
       "<Figure size 842.4x595.44 with 1 Axes>"
      ]
     },
     "metadata": {},
     "output_type": "display_data"
    }
   ],
   "source": [
    "# Look at the price_per_pound distributions of the fruits\n",
    "# and vegetables combined. The two sorted tables are concatented\n",
    "# then plotted side-by-side. Help from Tiffany C..\n",
    "expensive_veges = vegetables2.sort_values(by=['price_per_lb'])\n",
    "expensive_plot = [expensive_fruit, expensive_veges]\n",
    "expensive_plot = pd.concat(expensive_plot)\n",
    "sns.barplot(x='food', y='price_per_lb', data=expensive_plot, hue='type')\n",
    "plt.xticks(rotation = 90)\n",
    "plt.title(label='Vegetables and Fruits in price per pound')\n",
    "plt.show()"
   ]
  },
  {
   "cell_type": "markdown",
   "metadata": {},
   "source": [
    "Looking at the overall distributions of the fruits compared to the vegetables, it seems that the vegetables are much more similar overall with less extreme values. The fruits on the other hand have some items that make the data much more extreme in terms of expensive foods. The reason is due mostly to the berries like cherries, blackberries, and blueberries. The variation for the price of fruit is larger than that of the vegetables."
   ]
  },
  {
   "cell_type": "code",
   "execution_count": 8,
   "metadata": {},
   "outputs": [
    {
     "data": {
      "image/png": "[encoded data removed]",
      "text/plain": [
       "<Figure size 842.4x595.44 with 1 Axes>"
      ]
     },
     "metadata": {},
     "output_type": "display_data"
    }
   ],
   "source": [
    "# Plot fruits and vegetables in terms of price per cup.\n",
    "per_cup = fresh_food.sort_values(by=['price_per_cup'])\n",
    "sns.barplot(x='food', y='price_per_cup', data=per_cup, hue='type')\n",
    "plt.xticks(rotation = 90)\n",
    "plt.title(label='Vegetables and Fruits in price per cup')\n",
    "plt.show()"
   ]
  },
  {
   "cell_type": "markdown",
   "metadata": {},
   "source": [
    "The USDA website explains the following about the price per cup variable: 'ERS reports average prices per edible cup equivalent to inform policymakers and nutritionists about how much money it costs Americans to eat a sufficient quantity and variety of fruits and vegetables.' So when examining the best value for the price of food, this variable gives a much more suitable description of the value that an average consumer would get when paying for a food. The variable of price per pound makes sense to retailers who buy large amounts of food. However, consumers rarely buy such an amount at a single given time, therefore such a measurement is not quite relevant in terms of the value to an average consumer. When measuring food in price per cup, the cheapest are potatoes, watermelons bananas, iceberg lettuce, and cantaloupe. Therefore, these foods can be considered the best value for the price, because these prices are tailored to the amount that normal people will actually eat."
   ]
  },
  {
   "cell_type": "code",
   "execution_count": 9,
   "metadata": {},
   "outputs": [
    {
     "data": {
      "text/html": [
       "<div>\n",
       "<style scoped>\n",
       "    .dataframe tbody tr th:only-of-type {\n",
       "        vertical-align: middle;\n",
       "    }\n",
       "\n",
       "    .dataframe tbody tr th {\n",
       "        vertical-align: top;\n",
       "    }\n",
       "\n",
       "    .dataframe thead th {\n",
       "        text-align: right;\n",
       "    }\n",
       "</style>\n",
       "<table border=\"1\" class=\"dataframe\">\n",
       "  <thead>\n",
       "    <tr style=\"text-align: right;\">\n",
       "      <th></th>\n",
       "      <th>price_per_cup</th>\n",
       "      <th>price_per_lb</th>\n",
       "      <th>Form</th>\n",
       "      <th>yield</th>\n",
       "      <th>lb_per_cup</th>\n",
       "      <th>food</th>\n",
       "      <th>type</th>\n",
       "    </tr>\n",
       "  </thead>\n",
       "  <tbody>\n",
       "    <tr>\n",
       "      <th>33</th>\n",
       "      <td>0.766262</td>\n",
       "      <td>2.807302</td>\n",
       "      <td>Fresh1</td>\n",
       "      <td>1.05</td>\n",
       "      <td>0.286601</td>\n",
       "      <td>kale</td>\n",
       "      <td>vegetables</td>\n",
       "    </tr>\n",
       "    <tr>\n",
       "      <th>27</th>\n",
       "      <td>0.890898</td>\n",
       "      <td>2.763553</td>\n",
       "      <td>Fresh1</td>\n",
       "      <td>1.06</td>\n",
       "      <td>0.341717</td>\n",
       "      <td>brussels_sprouts</td>\n",
       "      <td>vegetables</td>\n",
       "    </tr>\n",
       "    <tr>\n",
       "      <th>29</th>\n",
       "      <td>0.650001</td>\n",
       "      <td>2.630838</td>\n",
       "      <td>Fresh1</td>\n",
       "      <td>1.16</td>\n",
       "      <td>0.286601</td>\n",
       "      <td>collard_greens</td>\n",
       "      <td>vegetables</td>\n",
       "    </tr>\n",
       "  </tbody>\n",
       "</table>\n",
       "</div>"
      ],
      "text/plain": [
       "    price_per_cup  price_per_lb    Form  yield  lb_per_cup              food  \\\n",
       "33       0.766262      2.807302  Fresh1   1.05    0.286601              kale   \n",
       "27       0.890898      2.763553  Fresh1   1.06    0.341717  brussels_sprouts   \n",
       "29       0.650001      2.630838  Fresh1   1.16    0.286601    collard_greens   \n",
       "\n",
       "          type  \n",
       "33  vegetables  \n",
       "27  vegetables  \n",
       "29  vegetables  "
      ]
     },
     "execution_count": 9,
     "metadata": {},
     "output_type": "execute_result"
    }
   ],
   "source": [
    "# Show the top 3 yields of the foods\n",
    "food_yield = fresh_food.sort_values(by=['yield'])\n",
    "food_yield.tail(3)"
   ]
  },
  {
   "cell_type": "markdown",
   "metadata": {},
   "source": [
    "The most surprising piece of data comes from the fact that some yields are greater than 100%. The above table shows the 3 foods which have a yield greater than 1.0 which is equivalent to being greater than 100%. The implication is that 105% of the weight of kale is used. Such a result is nonintuitive, but it is apparent that such results occur when the USDA analyzes the yield of food. However, when looking into the spreadsheet, the files indicate that the Fresh1 version of the food is sold chopped and boiled beforehand. Therefore, it is apparent that such plant-type foods which have plant cells that can easily absorb water gain weight during the process of boiling. Due to them gaining water weight, the yield of the above foods are capable of exceeding 100%."
   ]
  },
  {
   "cell_type": "code",
   "execution_count": 10,
   "metadata": {},
   "outputs": [
    {
     "data": {
      "text/plain": [
       "['radish',\n",
       " 'oranges',\n",
       " 'lettuce_iceberg',\n",
       " 'pineapple',\n",
       " 'onions',\n",
       " 'sweet_potatoes',\n",
       " 'cantaloupe',\n",
       " 'bananas',\n",
       " 'potatoes',\n",
       " 'watermelon']"
      ]
     },
     "execution_count": 10,
     "metadata": {},
     "output_type": "execute_result"
    }
   ],
   "source": [
    "# Examine the distribution of the 'value' variable\n",
    "fresh_food2 = fresh_food.copy()\n",
    "fresh_food2['price_yield'] = (1/fresh_food2['price_per_lb'])*fresh_food2['yield']\n",
    "price_yield = fresh_food2.sort_values(by=['price_yield'])\n",
    "\n",
    "price_yield10 = list(price_yield.tail(10)['food'])\n",
    "price_yield10 # Show the top 10 price yield foods"
   ]
  },
  {
   "cell_type": "markdown",
   "metadata": {},
   "source": [
    "The goal of determining which food is of best price, yield, and nutrition was to first create a variable which can be derived by using the other given variables. Therefore, the $\\text{price yield}$ variable was created using:\n",
    "\n",
    "\\begin{equation}\n",
    "    \\text{price yield} = \\frac{1}{\\text{price per lb.}} \\times \\text{yield} = \\frac{\\text{lb.}}{\\text{per price}} \\times \\text{yield}\n",
    "\\end{equation}\n",
    "\n",
    "This gives a percentage of pounds per dollar. For instance if a food is worth 1 pound per dollar, multiplied by a yield of 0.9, it would give 0.9 pounds of that food per dollar.\n",
    "\n",
    "The previous price yield variable combined price per pound along with yield. Therefore it would be sensible to examine the top 10 for this category. Examining these foods which are measured by the term $\\text{price_yield}$, it is apparent that they are only having their practical weight and price being taken into account. Certain foods in this category which are highly rated are of rather low nutrition. The indication is that these foods are worth their weight in terms of being edible, along with being cheap in terms of price. However, foods such as radishes and iceberg lettuce are not of particularly high nutritional value. So it would be good to examine which one of these foods are worth eating in terms of their nutritional value. It is of my opinion that these foods include: bananas, pineapples, oranges, sweet potatoes, and cantaloupe. Foods such as these are worthy due to them being an excellent source of nutrients such as Vitamin A and C."
   ]
  }
 ],
 "metadata": {
  "kernelspec": {
   "display_name": "Python 3",
   "language": "python",
   "name": "python3"
  },
  "language_info": {
   "codemirror_mode": {
    "name": "ipython",
    "version": 3
   },
   "file_extension": ".py",
   "mimetype": "text/x-python",
   "name": "python",
   "nbconvert_exporter": "python",
   "pygments_lexer": "ipython3",
   "version": "3.6.3"
  }
 },
 "nbformat": 4,
 "nbformat_minor": 2
}
